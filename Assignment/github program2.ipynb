{
 "cells": [
  {
   "cell_type": "code",
   "execution_count": 1,
   "id": "766903df",
   "metadata": {},
   "outputs": [],
   "source": [
    "import csv"
   ]
  },
  {
   "cell_type": "code",
   "execution_count": 3,
   "id": "f767326e",
   "metadata": {},
   "outputs": [
    {
     "name": "stdout",
     "output_type": "stream",
     "text": [
      "['sid', 'sname', 'sub1', 'sub2', 'sub3', 'sub4', 'sub5']\n",
      "['1', 'om', '70', '75', '80', '85', '90']\n",
      "['2', 'sai', '71', '72', '83', '87', '91']\n",
      "['3', 'ram', '50', '60', '70', '80', '99']\n",
      "['4', 'radha', '92', '77', '88', '79', '98']\n",
      "['5', 'harsh', '80', '76', '69', '94', '79']\n",
      "['6', 'jay', '69', '72', '73', '62', '65']\n",
      "['7', 'raj', '81', '83', '78', '41', '56']\n",
      "['8', 'yash', '67', '76', '56', '89', '84']\n",
      "['9', 'nilay', '64', '71', '54', '45', '78']\n",
      "['10', 'nirav', '70', '72', '67', '87', '89']\n"
     ]
    }
   ],
   "source": [
    "f=open(\"D:\\\\23bca283\\\\sqlite3\\\\csv\\\\result.csv\",'r')\n",
    "r=csv.reader(f)\n",
    "for row in r:\n",
    "    print(row)"
   ]
  },
  {
   "cell_type": "code",
   "execution_count": 4,
   "id": "026b879e",
   "metadata": {},
   "outputs": [],
   "source": [
    "f.close()"
   ]
  },
  {
   "cell_type": "code",
   "execution_count": 10,
   "id": "5bd9ddc3",
   "metadata": {},
   "outputs": [
    {
     "ename": "TypeError",
     "evalue": "unsupported operand type(s) for /: 'str' and 'int'",
     "output_type": "error",
     "traceback": [
      "\u001b[1;31m---------------------------------------------------------------------------\u001b[0m",
      "\u001b[1;31mTypeError\u001b[0m                                 Traceback (most recent call last)",
      "Input \u001b[1;32mIn [10]\u001b[0m, in \u001b[0;36m<cell line: 1>\u001b[1;34m()\u001b[0m\n\u001b[0;32m      3\u001b[0m \u001b[38;5;28;01mfor\u001b[39;00m row \u001b[38;5;129;01min\u001b[39;00m r:\n\u001b[0;32m      4\u001b[0m    total\u001b[38;5;241m=\u001b[39mrow[\u001b[38;5;241m2\u001b[39m]\u001b[38;5;241m+\u001b[39mrow[\u001b[38;5;241m3\u001b[39m]\u001b[38;5;241m+\u001b[39mrow[\u001b[38;5;241m4\u001b[39m]\u001b[38;5;241m+\u001b[39mrow[\u001b[38;5;241m5\u001b[39m]\u001b[38;5;241m+\u001b[39mrow[\u001b[38;5;241m6\u001b[39m]\n\u001b[1;32m----> 5\u001b[0m    per\u001b[38;5;241m=\u001b[39m\u001b[43mtotal\u001b[49m\u001b[38;5;241;43m/\u001b[39;49m\u001b[38;5;241;43m5\u001b[39;49m\n\u001b[0;32m      6\u001b[0m    \u001b[38;5;28mprint\u001b[39m(\u001b[38;5;124m\"\u001b[39m\u001b[38;5;132;01m{}\u001b[39;00m\u001b[38;5;124m \u001b[39m\u001b[38;5;130;01m\\t\u001b[39;00m\u001b[38;5;124m \u001b[39m\u001b[38;5;132;01m{}\u001b[39;00m\u001b[38;5;124m \u001b[39m\u001b[38;5;130;01m\\t\u001b[39;00m\u001b[38;5;124m \u001b[39m\u001b[38;5;132;01m{}\u001b[39;00m\u001b[38;5;124m \u001b[39m\u001b[38;5;130;01m\\t\u001b[39;00m\u001b[38;5;124m \u001b[39m\u001b[38;5;132;01m{}\u001b[39;00m\u001b[38;5;124m \u001b[39m\u001b[38;5;130;01m\\t\u001b[39;00m\u001b[38;5;124m \u001b[39m\u001b[38;5;132;01m{}\u001b[39;00m\u001b[38;5;124m \u001b[39m\u001b[38;5;130;01m\\t\u001b[39;00m\u001b[38;5;124m \u001b[39m\u001b[38;5;132;01m{}\u001b[39;00m\u001b[38;5;124m \u001b[39m\u001b[38;5;130;01m\\t\u001b[39;00m\u001b[38;5;124m \u001b[39m\u001b[38;5;132;01m{}\u001b[39;00m\u001b[38;5;124m \u001b[39m\u001b[38;5;130;01m\\t\u001b[39;00m\u001b[38;5;124m \u001b[39m\u001b[38;5;132;01m{}\u001b[39;00m\u001b[38;5;124m \u001b[39m\u001b[38;5;130;01m\\t\u001b[39;00m\u001b[38;5;124m \u001b[39m\u001b[38;5;132;01m{}\u001b[39;00m\u001b[38;5;124m\"\u001b[39m\u001b[38;5;241m.\u001b[39mformat(row[o],row[\u001b[38;5;241m1\u001b[39m],row[\u001b[38;5;241m2\u001b[39m],row[\u001b[38;5;241m3\u001b[39m],row[\u001b[38;5;241m4\u001b[39m],row[\u001b[38;5;241m5\u001b[39m],row[\u001b[38;5;241m6\u001b[39m],total,per))\n",
      "\u001b[1;31mTypeError\u001b[0m: unsupported operand type(s) for /: 'str' and 'int'"
     ]
    }
   ],
   "source": [
    "with open(\"D://23bca283//sqlite3//csv//result.csv\",'r') as f:\n",
    "   r=csv.reader(f)\n",
    "   for row in r:\n",
    "      total=row[2]+row[3]+row[4]+row[5]+row[6]\n",
    "      per=total/5\n",
    "      print(\"{} \\t {} \\t {} \\t {} \\t {} \\t {} \\t {} \\t {} \\t {}\".format(row[o],row[1],row[2],row[3],row[4],row[5],row[6],total,per))"
   ]
  },
  {
   "cell_type": "code",
   "execution_count": null,
   "id": "a1668779",
   "metadata": {},
   "outputs": [],
   "source": []
  }
 ],
 "metadata": {
  "kernelspec": {
   "display_name": "Python 3 (ipykernel)",
   "language": "python",
   "name": "python3"
  },
  "language_info": {
   "codemirror_mode": {
    "name": "ipython",
    "version": 3
   },
   "file_extension": ".py",
   "mimetype": "text/x-python",
   "name": "python",
   "nbconvert_exporter": "python",
   "pygments_lexer": "ipython3",
   "version": "3.9.12"
  }
 },
 "nbformat": 4,
 "nbformat_minor": 5
}
